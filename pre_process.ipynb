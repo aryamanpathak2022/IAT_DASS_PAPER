{
  "nbformat": 4,
  "nbformat_minor": 0,
  "metadata": {
    "colab": {
      "provenance": [],
      "mount_file_id": "1sgmgi-rcDun6frwKsmDQllNlMqUp7Kge",
      "authorship_tag": "ABX9TyPeJRPYj6GptHycUgThpwvU",
      "include_colab_link": true
    },
    "kernelspec": {
      "name": "python3",
      "display_name": "Python 3"
    },
    "language_info": {
      "name": "python"
    }
  },
  "cells": [
    {
      "cell_type": "markdown",
      "metadata": {
        "id": "view-in-github",
        "colab_type": "text"
      },
      "source": [
        "<a href=\"https://colab.research.google.com/github/aryamanpathak2022/IAT_DASS_PAPER/blob/main/pre_process.ipynb\" target=\"_parent\"><img src=\"https://colab.research.google.com/assets/colab-badge.svg\" alt=\"Open In Colab\"/></a>"
      ]
    },
    {
      "cell_type": "code",
      "execution_count": 6,
      "metadata": {
        "id": "4_Ks1_wSR1au"
      },
      "outputs": [],
      "source": [
        "import pandas as pd\n",
        "import numpy as np\n",
        "from sklearn.model_selection import train_test_split\n",
        "from sklearn.preprocessing import LabelEncoder\n",
        "from sklearn.metrics import accuracy_score\n",
        "from xgboost import XGBClassifier"
      ]
    },
    {
      "cell_type": "code",
      "source": [
        "# Load the dataset\n",
        "file_path = './drive/MyDrive/NIMHANS/IAT_DASS.csv'  # Replace with the path to your CSV file\n",
        "data = pd.read_csv(file_path)"
      ],
      "metadata": {
        "id": "M2Qi6vxZR8O2"
      },
      "execution_count": 7,
      "outputs": []
    },
    {
      "cell_type": "code",
      "source": [
        "# Define ranges for classes\n",
        "def classify_depression(d):\n",
        "    if d <= 9:\n",
        "        return 0\n",
        "    elif 10 <= d <= 13:\n",
        "        return 1\n",
        "    elif 14 <= d <= 20:\n",
        "        return 2\n",
        "    elif 21 <= d <= 27:\n",
        "        return 3\n",
        "    else:\n",
        "        return 4\n",
        "\n",
        "def classify_anxiety(a):\n",
        "    if a <= 7:\n",
        "        return 0\n",
        "    elif 8 <= a <= 9:\n",
        "        return 1\n",
        "    elif 10 <= a <= 14:\n",
        "        return 2\n",
        "    elif 15 <= a <= 19:\n",
        "        return 3\n",
        "    else:\n",
        "        return 4\n",
        "\n",
        "def classify_stress(s):\n",
        "    if s <= 14:\n",
        "        return 0\n",
        "    elif 15 <= s <= 18:\n",
        "        return 1\n",
        "    elif 19 <= s <= 25:\n",
        "        return 2\n",
        "    elif 26 <= s <= 33:\n",
        "        return 3\n",
        "    else:\n",
        "        return 4"
      ],
      "metadata": {
        "id": "E38QW5BNR9gU"
      },
      "execution_count": 8,
      "outputs": []
    },
    {
      "cell_type": "code",
      "source": [
        "# Apply classification functions\n",
        "data['Depression_Class'] = data['Depression (D)'].apply(classify_depression)\n",
        "data['Anxiety_Class'] = data['Anxiety (A)'].apply(classify_anxiety)\n",
        "data['Stress_Class'] = data['Stress (S)'].apply(classify_stress)"
      ],
      "metadata": {
        "id": "pwmepjn7R-oq"
      },
      "execution_count": 9,
      "outputs": []
    },
    {
      "cell_type": "code",
      "source": [
        "iat_columns = [f'Q1_i({i})' for i in range(1, 21)]\n",
        "data['iat_score'] = data[iat_columns].sum(axis=1)"
      ],
      "metadata": {
        "id": "3o-3pCpISAgC"
      },
      "execution_count": 10,
      "outputs": []
    },
    {
      "cell_type": "code",
      "source": [
        "# Define features and target\n",
        "X = data[['Depression_Class', 'Anxiety_Class', 'Stress_Class']]\n",
        "y = data['iat_score']"
      ],
      "metadata": {
        "id": "6mVyDgfRSB8t"
      },
      "execution_count": 11,
      "outputs": []
    },
    {
      "cell_type": "code",
      "source": [
        "# Train-test split\n",
        "X_train, X_test, y_train, y_test = train_test_split(X, y, test_size=0.2, random_state=42)"
      ],
      "metadata": {
        "id": "fGMw_oonSJuL"
      },
      "execution_count": 12,
      "outputs": []
    },
    {
      "cell_type": "code",
      "source": [
        "data.to_csv('./drive/MyDrive/NIMHANS/pp_output.csv', index=False)  # Saves the DataFrame as 'output.csv' without the index column"
      ],
      "metadata": {
        "id": "icwaw-LSSMyM"
      },
      "execution_count": 13,
      "outputs": []
    },
    {
      "cell_type": "code",
      "source": [],
      "metadata": {
        "id": "2QmjLDrPSefz"
      },
      "execution_count": null,
      "outputs": []
    }
  ]
}